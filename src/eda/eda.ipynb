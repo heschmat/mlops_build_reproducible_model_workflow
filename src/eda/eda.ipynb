{
 "cells": [
  {
   "cell_type": "code",
   "execution_count": 1,
   "id": "a3992abd-5eb3-4396-9bcf-02edd30d3f6e",
   "metadata": {},
   "outputs": [],
   "source": [
    "import pandas as pd\n",
    "#import pandas_profiling\n",
    "\n",
    "import matplotlib.pyplot as plt"
   ]
  },
  {
   "cell_type": "code",
   "execution_count": 2,
   "id": "b728d6d3-b1b0-4e14-bce3-96b2be30b722",
   "metadata": {},
   "outputs": [],
   "source": [
    "import wandb"
   ]
  },
  {
   "cell_type": "code",
   "execution_count": 3,
   "id": "e8832fa3-7bb2-4570-abf1-ff5e1e8f6354",
   "metadata": {},
   "outputs": [
    {
     "data": {
      "text/plain": [
       "datetime.datetime(2025, 2, 28, 16, 0, 32, 962618)"
      ]
     },
     "execution_count": 3,
     "metadata": {},
     "output_type": "execute_result"
    }
   ],
   "source": [
    "from datetime import datetime\n",
    "\n",
    "datetime.now()"
   ]
  },
  {
   "cell_type": "code",
   "execution_count": 4,
   "id": "31e48be3-7b72-492d-953a-1e1a38d7325b",
   "metadata": {},
   "outputs": [
    {
     "name": "stderr",
     "output_type": "stream",
     "text": [
      "\u001b[34m\u001b[1mwandb\u001b[0m: Currently logged in as: \u001b[33mheschmat\u001b[0m. Use \u001b[1m`wandb login --relogin`\u001b[0m to force relogin\n"
     ]
    },
    {
     "data": {
      "text/html": [
       "wandb version 0.19.7 is available!  To upgrade, please run:\n",
       " $ pip install wandb --upgrade"
      ],
      "text/plain": [
       "<IPython.core.display.HTML object>"
      ]
     },
     "metadata": {},
     "output_type": "display_data"
    },
    {
     "data": {
      "text/html": [
       "Tracking run with wandb version 0.16.0"
      ],
      "text/plain": [
       "<IPython.core.display.HTML object>"
      ]
     },
     "metadata": {},
     "output_type": "display_data"
    },
    {
     "data": {
      "text/html": [
       "Run data is saved locally in <code>/home/hesch/Documents/GitHub/uda/build-ml-pipeline-for-short-term-rental-prices/src/eda/wandb/run-20250228_160034-jvd6dgbq</code>"
      ],
      "text/plain": [
       "<IPython.core.display.HTML object>"
      ]
     },
     "metadata": {},
     "output_type": "display_data"
    },
    {
     "data": {
      "text/html": [
       "Syncing run <strong><a href='https://wandb.ai/heschmat/nyc_airbnb/runs/jvd6dgbq' target=\"_blank\">autumn-butterfly-5</a></strong> to <a href='https://wandb.ai/heschmat/nyc_airbnb' target=\"_blank\">Weights & Biases</a> (<a href='https://wandb.me/run' target=\"_blank\">docs</a>)<br/>"
      ],
      "text/plain": [
       "<IPython.core.display.HTML object>"
      ]
     },
     "metadata": {},
     "output_type": "display_data"
    },
    {
     "data": {
      "text/html": [
       " View project at <a href='https://wandb.ai/heschmat/nyc_airbnb' target=\"_blank\">https://wandb.ai/heschmat/nyc_airbnb</a>"
      ],
      "text/plain": [
       "<IPython.core.display.HTML object>"
      ]
     },
     "metadata": {},
     "output_type": "display_data"
    },
    {
     "data": {
      "text/html": [
       " View run at <a href='https://wandb.ai/heschmat/nyc_airbnb/runs/jvd6dgbq' target=\"_blank\">https://wandb.ai/heschmat/nyc_airbnb/runs/jvd6dgbq</a>"
      ],
      "text/plain": [
       "<IPython.core.display.HTML object>"
      ]
     },
     "metadata": {},
     "output_type": "display_data"
    }
   ],
   "source": [
    "run = wandb.init(project='nyc_airbnb', group='eda', save_code=True)\n",
    "local_path = wandb.use_artifact('sample.csv:latest').file()\n"
   ]
  },
  {
   "cell_type": "code",
   "execution_count": 5,
   "id": "13ea3d79-afa6-4d76-9e7c-17d0038de53f",
   "metadata": {},
   "outputs": [],
   "source": [
    "df = pd.read_csv(local_path)"
   ]
  },
  {
   "cell_type": "code",
   "execution_count": 6,
   "id": "b7bedb05-b3e2-4718-8491-1804592867f1",
   "metadata": {},
   "outputs": [
    {
     "data": {
      "text/plain": [
       "(20000, 16)"
      ]
     },
     "execution_count": 6,
     "metadata": {},
     "output_type": "execute_result"
    }
   ],
   "source": [
    "df.shape"
   ]
  },
  {
   "cell_type": "code",
   "execution_count": 7,
   "id": "7d9e2ce1-e272-4cba-8005-dfc5a7868061",
   "metadata": {},
   "outputs": [
    {
     "data": {
      "text/html": [
       "<div>\n",
       "<style scoped>\n",
       "    .dataframe tbody tr th:only-of-type {\n",
       "        vertical-align: middle;\n",
       "    }\n",
       "\n",
       "    .dataframe tbody tr th {\n",
       "        vertical-align: top;\n",
       "    }\n",
       "\n",
       "    .dataframe thead th {\n",
       "        text-align: right;\n",
       "    }\n",
       "</style>\n",
       "<table border=\"1\" class=\"dataframe\">\n",
       "  <thead>\n",
       "    <tr style=\"text-align: right;\">\n",
       "      <th></th>\n",
       "      <th>id</th>\n",
       "      <th>name</th>\n",
       "      <th>host_id</th>\n",
       "      <th>host_name</th>\n",
       "      <th>neighbourhood_group</th>\n",
       "      <th>neighbourhood</th>\n",
       "      <th>latitude</th>\n",
       "      <th>longitude</th>\n",
       "      <th>room_type</th>\n",
       "      <th>price</th>\n",
       "      <th>minimum_nights</th>\n",
       "      <th>number_of_reviews</th>\n",
       "      <th>last_review</th>\n",
       "      <th>reviews_per_month</th>\n",
       "      <th>calculated_host_listings_count</th>\n",
       "      <th>availability_365</th>\n",
       "    </tr>\n",
       "  </thead>\n",
       "  <tbody>\n",
       "    <tr>\n",
       "      <th>0</th>\n",
       "      <td>9138664</td>\n",
       "      <td>Private Lg Room 15 min to Manhattan</td>\n",
       "      <td>47594947</td>\n",
       "      <td>Iris</td>\n",
       "      <td>Queens</td>\n",
       "      <td>Sunnyside</td>\n",
       "      <td>40.74271</td>\n",
       "      <td>-73.92493</td>\n",
       "      <td>Private room</td>\n",
       "      <td>74</td>\n",
       "      <td>2</td>\n",
       "      <td>6</td>\n",
       "      <td>2019-05-26</td>\n",
       "      <td>0.13</td>\n",
       "      <td>1</td>\n",
       "      <td>5</td>\n",
       "    </tr>\n",
       "    <tr>\n",
       "      <th>1</th>\n",
       "      <td>31444015</td>\n",
       "      <td>TIME SQUARE CHARMING ONE BED IN HELL'S KITCHEN...</td>\n",
       "      <td>8523790</td>\n",
       "      <td>Johlex</td>\n",
       "      <td>Manhattan</td>\n",
       "      <td>Hell's Kitchen</td>\n",
       "      <td>40.76682</td>\n",
       "      <td>-73.98878</td>\n",
       "      <td>Entire home/apt</td>\n",
       "      <td>170</td>\n",
       "      <td>3</td>\n",
       "      <td>0</td>\n",
       "      <td>NaN</td>\n",
       "      <td>NaN</td>\n",
       "      <td>1</td>\n",
       "      <td>188</td>\n",
       "    </tr>\n",
       "    <tr>\n",
       "      <th>2</th>\n",
       "      <td>8741020</td>\n",
       "      <td>Voted #1 Location Quintessential 1BR W Village...</td>\n",
       "      <td>45854238</td>\n",
       "      <td>John</td>\n",
       "      <td>Manhattan</td>\n",
       "      <td>West Village</td>\n",
       "      <td>40.73631</td>\n",
       "      <td>-74.00611</td>\n",
       "      <td>Entire home/apt</td>\n",
       "      <td>245</td>\n",
       "      <td>3</td>\n",
       "      <td>51</td>\n",
       "      <td>2018-09-19</td>\n",
       "      <td>1.12</td>\n",
       "      <td>1</td>\n",
       "      <td>0</td>\n",
       "    </tr>\n",
       "    <tr>\n",
       "      <th>3</th>\n",
       "      <td>34602077</td>\n",
       "      <td>Spacious 1 bedroom apartment 15min from Manhattan</td>\n",
       "      <td>261055465</td>\n",
       "      <td>Regan</td>\n",
       "      <td>Queens</td>\n",
       "      <td>Astoria</td>\n",
       "      <td>40.76424</td>\n",
       "      <td>-73.92351</td>\n",
       "      <td>Entire home/apt</td>\n",
       "      <td>125</td>\n",
       "      <td>3</td>\n",
       "      <td>1</td>\n",
       "      <td>2019-05-24</td>\n",
       "      <td>0.65</td>\n",
       "      <td>1</td>\n",
       "      <td>13</td>\n",
       "    </tr>\n",
       "    <tr>\n",
       "      <th>4</th>\n",
       "      <td>23203149</td>\n",
       "      <td>Big beautiful bedroom in huge Bushwick apartment</td>\n",
       "      <td>143460</td>\n",
       "      <td>Megan</td>\n",
       "      <td>Brooklyn</td>\n",
       "      <td>Bushwick</td>\n",
       "      <td>40.69839</td>\n",
       "      <td>-73.92044</td>\n",
       "      <td>Private room</td>\n",
       "      <td>65</td>\n",
       "      <td>2</td>\n",
       "      <td>8</td>\n",
       "      <td>2019-06-23</td>\n",
       "      <td>0.52</td>\n",
       "      <td>2</td>\n",
       "      <td>8</td>\n",
       "    </tr>\n",
       "  </tbody>\n",
       "</table>\n",
       "</div>"
      ],
      "text/plain": [
       "         id                                               name    host_id  \\\n",
       "0   9138664                Private Lg Room 15 min to Manhattan   47594947   \n",
       "1  31444015  TIME SQUARE CHARMING ONE BED IN HELL'S KITCHEN...    8523790   \n",
       "2   8741020  Voted #1 Location Quintessential 1BR W Village...   45854238   \n",
       "3  34602077  Spacious 1 bedroom apartment 15min from Manhattan  261055465   \n",
       "4  23203149   Big beautiful bedroom in huge Bushwick apartment     143460   \n",
       "\n",
       "  host_name neighbourhood_group   neighbourhood  latitude  longitude  \\\n",
       "0      Iris              Queens       Sunnyside  40.74271  -73.92493   \n",
       "1    Johlex           Manhattan  Hell's Kitchen  40.76682  -73.98878   \n",
       "2      John           Manhattan    West Village  40.73631  -74.00611   \n",
       "3     Regan              Queens         Astoria  40.76424  -73.92351   \n",
       "4     Megan            Brooklyn        Bushwick  40.69839  -73.92044   \n",
       "\n",
       "         room_type  price  minimum_nights  number_of_reviews last_review  \\\n",
       "0     Private room     74               2                  6  2019-05-26   \n",
       "1  Entire home/apt    170               3                  0         NaN   \n",
       "2  Entire home/apt    245               3                 51  2018-09-19   \n",
       "3  Entire home/apt    125               3                  1  2019-05-24   \n",
       "4     Private room     65               2                  8  2019-06-23   \n",
       "\n",
       "   reviews_per_month  calculated_host_listings_count  availability_365  \n",
       "0               0.13                               1                 5  \n",
       "1                NaN                               1               188  \n",
       "2               1.12                               1                 0  \n",
       "3               0.65                               1                13  \n",
       "4               0.52                               2                 8  "
      ]
     },
     "execution_count": 7,
     "metadata": {},
     "output_type": "execute_result"
    }
   ],
   "source": [
    "df.head()"
   ]
  },
  {
   "cell_type": "code",
   "execution_count": 8,
   "id": "e70c87f5-13bb-4d29-b526-400123d6eec1",
   "metadata": {},
   "outputs": [
    {
     "name": "stdout",
     "output_type": "stream",
     "text": [
      "<class 'pandas.core.frame.DataFrame'>\n",
      "RangeIndex: 20000 entries, 0 to 19999\n",
      "Data columns (total 16 columns):\n",
      " #   Column                          Non-Null Count  Dtype  \n",
      "---  ------                          --------------  -----  \n",
      " 0   id                              20000 non-null  int64  \n",
      " 1   name                            19993 non-null  object \n",
      " 2   host_id                         20000 non-null  int64  \n",
      " 3   host_name                       19992 non-null  object \n",
      " 4   neighbourhood_group             20000 non-null  object \n",
      " 5   neighbourhood                   20000 non-null  object \n",
      " 6   latitude                        20000 non-null  float64\n",
      " 7   longitude                       20000 non-null  float64\n",
      " 8   room_type                       20000 non-null  object \n",
      " 9   price                           20000 non-null  int64  \n",
      " 10  minimum_nights                  20000 non-null  int64  \n",
      " 11  number_of_reviews               20000 non-null  int64  \n",
      " 12  last_review                     15877 non-null  object \n",
      " 13  reviews_per_month               15877 non-null  float64\n",
      " 14  calculated_host_listings_count  20000 non-null  int64  \n",
      " 15  availability_365                20000 non-null  int64  \n",
      "dtypes: float64(3), int64(7), object(6)\n",
      "memory usage: 2.4+ MB\n"
     ]
    }
   ],
   "source": [
    "df.info()"
   ]
  },
  {
   "cell_type": "code",
   "execution_count": 9,
   "id": "01199b21-9e23-4d2b-8988-e06c835e96e0",
   "metadata": {},
   "outputs": [
    {
     "data": {
      "text/plain": [
       "id                                   0\n",
       "name                                 7\n",
       "host_id                              0\n",
       "host_name                            8\n",
       "neighbourhood_group                  0\n",
       "neighbourhood                        0\n",
       "latitude                             0\n",
       "longitude                            0\n",
       "room_type                            0\n",
       "price                                0\n",
       "minimum_nights                       0\n",
       "number_of_reviews                    0\n",
       "last_review                       4123\n",
       "reviews_per_month                 4123\n",
       "calculated_host_listings_count       0\n",
       "availability_365                     0\n",
       "dtype: int64"
      ]
     },
     "execution_count": 9,
     "metadata": {},
     "output_type": "execute_result"
    }
   ],
   "source": [
    "df.isnull().sum()"
   ]
  },
  {
   "cell_type": "code",
   "execution_count": 10,
   "id": "217fb4d3-9faa-4b9c-87f2-3a6fffd1a0dc",
   "metadata": {},
   "outputs": [
    {
     "data": {
      "text/plain": [
       "<Axes: >"
      ]
     },
     "execution_count": 10,
     "metadata": {},
     "output_type": "execute_result"
    },
    {
     "data": {
      "image/png": "[encoded data removed]",
      "text/plain": [
       "<Figure size 640x480 with 1 Axes>"
      ]
     },
     "metadata": {},
     "output_type": "display_data"
    }
   ],
   "source": [
    "df['price'].hist(bins=30)"
   ]
  },
  {
   "cell_type": "code",
   "execution_count": 11,
   "id": "7a70042c-00ef-47eb-bd93-f73c3012647e",
   "metadata": {},
   "outputs": [
    {
     "data": {
      "text/plain": [
       "count    20000.000000\n",
       "mean       153.269050\n",
       "std        243.325609\n",
       "min          0.000000\n",
       "25%         69.000000\n",
       "50%        105.000000\n",
       "75%        175.000000\n",
       "max      10000.000000\n",
       "Name: price, dtype: float64"
      ]
     },
     "execution_count": 11,
     "metadata": {},
     "output_type": "execute_result"
    }
   ],
   "source": [
    "df['price'].describe()"
   ]
  },
  {
   "cell_type": "code",
   "execution_count": 12,
   "id": "ff48e278-4bfd-4dc1-a0a4-f2c4d0befce0",
   "metadata": {},
   "outputs": [
    {
     "data": {
      "text/plain": [
       "<Axes: >"
      ]
     },
     "execution_count": 12,
     "metadata": {},
     "output_type": "execute_result"
    },
    {
     "data": {
      "image/png": "[encoded data removed]",
      "text/plain": [
       "<Figure size 640x480 with 1 Axes>"
      ]
     },
     "metadata": {},
     "output_type": "display_data"
    }
   ],
   "source": [
    "df['price'].hist(bins=30)"
   ]
  },
  {
   "cell_type": "code",
   "execution_count": 13,
   "id": "5c5b8c0a-23f4-401c-b9b7-f3063ba524c9",
   "metadata": {},
   "outputs": [],
   "source": [
    "min_price, max_price = 10, 350\n",
    "\n",
    "idx = df['price'].between(min_price, max_price)\n",
    "df = df[idx]"
   ]
  },
  {
   "cell_type": "code",
   "execution_count": 14,
   "id": "97e305ac-9262-4743-9855-9df9fd88d184",
   "metadata": {},
   "outputs": [],
   "source": [
    "# convert `last_review` to datetime\n",
    "df['last_review'] = pd.to_datetime(df['last_review'])\n"
   ]
  },
  {
   "cell_type": "code",
   "execution_count": 15,
   "id": "b611d488-5c7f-4da9-9c40-2de0a3e81fb3",
   "metadata": {},
   "outputs": [
    {
     "data": {
      "text/plain": [
       "id                                         int64\n",
       "name                                      object\n",
       "host_id                                    int64\n",
       "host_name                                 object\n",
       "neighbourhood_group                       object\n",
       "neighbourhood                             object\n",
       "latitude                                 float64\n",
       "longitude                                float64\n",
       "room_type                                 object\n",
       "price                                      int64\n",
       "minimum_nights                             int64\n",
       "number_of_reviews                          int64\n",
       "last_review                       datetime64[ns]\n",
       "reviews_per_month                        float64\n",
       "calculated_host_listings_count             int64\n",
       "availability_365                           int64\n",
       "dtype: object"
      ]
     },
     "execution_count": 15,
     "metadata": {},
     "output_type": "execute_result"
    }
   ],
   "source": [
    "# Confirm the modification\n",
    "df.dtypes"
   ]
  },
  {
   "cell_type": "code",
   "execution_count": 16,
   "id": "62c5b96a-ec4e-483c-886f-52552242b028",
   "metadata": {},
   "outputs": [
    {
     "data": {
      "application/vnd.jupyter.widget-view+json": {
       "model_id": "",
       "version_major": 2,
       "version_minor": 0
      },
      "text/plain": [
       "VBox(children=(Label(value='0.155 MB of 0.155 MB uploaded (0.054 MB deduped)\\r'), FloatProgress(value=1.0, max…"
      ]
     },
     "metadata": {},
     "output_type": "display_data"
    },
    {
     "data": {
      "text/html": [
       "W&B sync reduced upload amount by 25.2%             "
      ],
      "text/plain": [
       "<IPython.core.display.HTML object>"
      ]
     },
     "metadata": {},
     "output_type": "display_data"
    },
    {
     "data": {
      "text/html": [
       " View run <strong style=\"color:#cdcd00\">autumn-butterfly-5</strong> at: <a href='https://wandb.ai/heschmat/nyc_airbnb/runs/jvd6dgbq' target=\"_blank\">https://wandb.ai/heschmat/nyc_airbnb/runs/jvd6dgbq</a><br/> View job at <a href='https://wandb.ai/heschmat/nyc_airbnb/jobs/QXJ0aWZhY3RDb2xsZWN0aW9uOjU2ODU4ODM3NA==/version_details/v0' target=\"_blank\">https://wandb.ai/heschmat/nyc_airbnb/jobs/QXJ0aWZhY3RDb2xsZWN0aW9uOjU2ODU4ODM3NA==/version_details/v0</a><br/>Synced 6 W&B file(s), 0 media file(s), 3 artifact file(s) and 1 other file(s)"
      ],
      "text/plain": [
       "<IPython.core.display.HTML object>"
      ]
     },
     "metadata": {},
     "output_type": "display_data"
    },
    {
     "data": {
      "text/html": [
       "Find logs at: <code>./wandb/run-20250228_160034-jvd6dgbq/logs</code>"
      ],
      "text/plain": [
       "<IPython.core.display.HTML object>"
      ]
     },
     "metadata": {},
     "output_type": "display_data"
    }
   ],
   "source": [
    "run.finish()"
   ]
  },
  {
   "cell_type": "code",
   "execution_count": 17,
   "id": "0aeb10fd-a059-41af-93b5-23a86dc95fd0",
   "metadata": {},
   "outputs": [],
   "source": [
    "# save the notebook, then close it via **File > Close & Halt**\n",
    "\n",
    "# In the main page, click Quit to stop Jupyter. This will terminate `mlflow run`"
   ]
  },
  {
   "cell_type": "code",
   "execution_count": 18,
   "id": "5f1b72be-86ca-4954-acd2-23bb98c27b9c",
   "metadata": {},
   "outputs": [
    {
     "name": "stdout",
     "output_type": "stream",
     "text": [
      "Done!\n"
     ]
    }
   ],
   "source": [
    "print('Done!')"
   ]
  }
 ],
 "metadata": {
  "kernelspec": {
   "display_name": "Python 3 (ipykernel)",
   "language": "python",
   "name": "python3"
  },
  "language_info": {
   "codemirror_mode": {
    "name": "ipython",
    "version": 3
   },
   "file_extension": ".py",
   "mimetype": "text/x-python",
   "name": "python",
   "nbconvert_exporter": "python",
   "pygments_lexer": "ipython3",
   "version": "3.10.16"
  }
 },
 "nbformat": 4,
 "nbformat_minor": 5
}
